{
 "cells": [
  {
   "cell_type": "markdown",
   "metadata": {},
   "source": [
    "# Classification"
   ]
  },
  {
   "cell_type": "code",
   "execution_count": 1,
   "metadata": {},
   "outputs": [],
   "source": [
    "import tensorflow as tf\n",
    "import numpy as np\n",
    "import matplotlib.pyplot as plt"
   ]
  },
  {
   "cell_type": "code",
   "execution_count": 6,
   "metadata": {},
   "outputs": [],
   "source": [
    "x1 = np.random.normal(5,1,10)\n",
    "x2 = np.random.normal(2,1,10)\n",
    "x = np.append(x1,x2)\n",
    "labels = [0.]*len(x1) + [1.]*len(x2)"
   ]
  },
  {
   "cell_type": "code",
   "execution_count": 7,
   "metadata": {},
   "outputs": [
    {
     "data": {
      "text/plain": [
       "array([4.86609458, 5.03697463, 4.55073269, 2.12579037, 4.39983901,\n",
       "       3.92233714, 6.51816439, 5.68441462, 6.51728388, 6.93614422,\n",
       "       2.93671521, 2.39713954, 1.66146005, 1.94115444, 1.58024437,\n",
       "       0.14344824, 1.45431341, 1.99693609, 2.73425425, 3.94320676])"
      ]
     },
     "execution_count": 7,
     "metadata": {},
     "output_type": "execute_result"
    }
   ],
   "source": [
    "x"
   ]
  },
  {
   "cell_type": "code",
   "execution_count": 8,
   "metadata": {},
   "outputs": [
    {
     "data": {
      "text/plain": [
       "<matplotlib.collections.PathCollection at 0x26baf959748>"
      ]
     },
     "execution_count": 8,
     "metadata": {},
     "output_type": "execute_result"
    },
    {
     "data": {
      "image/png": "[encoded data removed]",
      "text/plain": [
       "<Figure size 432x288 with 1 Axes>"
      ]
     },
     "metadata": {
      "needs_background": "light"
     },
     "output_type": "display_data"
    }
   ],
   "source": [
    "plt.scatter(x,labels)"
   ]
  },
  {
   "cell_type": "code",
   "execution_count": 90,
   "metadata": {},
   "outputs": [],
   "source": [
    "learning_rate = 0.001\n",
    "training_epochs = 500\n",
    "\n",
    "X = tf.placeholder(tf.float64)\n",
    "Y = tf.placeholder(tf.float64)\n",
    "w = tf.Variable([0.,0.],name=\"parameter\", dtype=tf.float64)\n",
    "\n",
    "def model(X,w):\n",
    "    return tf.reduce_sum(tf.tensordot(w,X,0),0)\n",
    "\n",
    "y_pred = model(X,w)\n",
    "cost = tf.reduce_mean(tf.square(Y-y_pred))\n",
    "\n",
    "trainer = tf.train.GradientDescentOptimizer(learning_rate).minimize(cost)"
   ]
  },
  {
   "cell_type": "code",
   "execution_count": 91,
   "metadata": {},
   "outputs": [],
   "source": [
    "with tf.Session() as sess:\n",
    "    sess.run(tf.global_variables_initializer())\n",
    "    #costs= []\n",
    "    for epoch in range(training_epochs):\n",
    "        sess.run(trainer, feed_dict={X:x,Y:labels})\n",
    "        #costs.append(sess.run(cost))\n",
    "    w_val = sess.run(w)\n",
    "    y_model = sess.run(model(x,sess.run(w)))\n",
    "    sess.close()\n",
    "        "
   ]
  },
  {
   "cell_type": "code",
   "execution_count": 92,
   "metadata": {},
   "outputs": [
    {
     "data": {
      "text/plain": [
       "array([0.0317921, 0.0317921])"
      ]
     },
     "execution_count": 92,
     "metadata": {},
     "output_type": "execute_result"
    }
   ],
   "source": [
    "w_val"
   ]
  },
  {
   "cell_type": "code",
   "execution_count": 93,
   "metadata": {},
   "outputs": [
    {
     "data": {
      "text/plain": [
       "array([0.30940678, 0.32027205, 0.28935474, 0.1351667 , 0.27976028,\n",
       "       0.24939871, 0.41445233, 0.36143901, 0.41439634, 0.44102925,\n",
       "       0.18672871, 0.15242022, 0.10564262, 0.12342677, 0.10047859,\n",
       "       0.00912104, 0.09247137, 0.1269736 , 0.17385539, 0.25072568])"
      ]
     },
     "execution_count": 93,
     "metadata": {},
     "output_type": "execute_result"
    }
   ],
   "source": [
    "y_model"
   ]
  },
  {
   "cell_type": "code",
   "execution_count": 94,
   "metadata": {},
   "outputs": [
    {
     "data": {
      "image/png": "[encoded data removed]",
      "text/plain": [
       "<Figure size 432x288 with 1 Axes>"
      ]
     },
     "metadata": {
      "needs_background": "light"
     },
     "output_type": "display_data"
    }
   ],
   "source": [
    "plt.scatter(x,labels,label=\"training data\")\n",
    "plt.plot(x,y_model, label=\"model fit\")\n",
    "plt.legend()\n",
    "plt.show()"
   ]
  },
  {
   "cell_type": "code",
   "execution_count": null,
   "metadata": {},
   "outputs": [],
   "source": []
  }
 ],
 "metadata": {
  "kernelspec": {
   "display_name": "Python 3",
   "language": "python",
   "name": "python3"
  },
  "language_info": {
   "codemirror_mode": {
    "name": "ipython",
    "version": 3
   },
   "file_extension": ".py",
   "mimetype": "text/x-python",
   "name": "python",
   "nbconvert_exporter": "python",
   "pygments_lexer": "ipython3",
   "version": "3.6.8"
  }
 },
 "nbformat": 4,
 "nbformat_minor": 2
}
