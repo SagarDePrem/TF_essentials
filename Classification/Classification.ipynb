{
 "cells": [
  {
   "cell_type": "markdown",
   "metadata": {},
   "source": [
    "# Classification"
   ]
  },
  {
   "cell_type": "markdown",
   "metadata": {},
   "source": [
    "## Classification using Linear Regression\n"
   ]
  },
  {
   "cell_type": "code",
   "execution_count": 1,
   "metadata": {},
   "outputs": [],
   "source": [
    "import tensorflow as tf\n",
    "import numpy as np\n",
    "import matplotlib.pyplot as plt"
   ]
  },
  {
   "cell_type": "code",
   "execution_count": 2,
   "metadata": {},
   "outputs": [],
   "source": [
    "x1 = np.random.normal(5,1,10)\n",
    "x1 = np.append(np.random.normal(5, 1, 9), 20) #\n",
    "x2 = np.random.normal(2,1,10)\n",
    "x = np.append(x1,x2)\n",
    "labels = [0.]*len(x1) + [1.]*len(x2)"
   ]
  },
  {
   "cell_type": "code",
   "execution_count": 3,
   "metadata": {},
   "outputs": [
    {
     "data": {
      "text/plain": [
       "<matplotlib.collections.PathCollection at 0x26475e81e48>"
      ]
     },
     "execution_count": 3,
     "metadata": {},
     "output_type": "execute_result"
    },
    {
     "data": {
      "image/png": "[encoded data removed]",
      "text/plain": [
       "<Figure size 432x288 with 1 Axes>"
      ]
     },
     "metadata": {
      "needs_background": "light"
     },
     "output_type": "display_data"
    }
   ],
   "source": [
    "plt.scatter(x,labels)"
   ]
  },
  {
   "cell_type": "code",
   "execution_count": 4,
   "metadata": {},
   "outputs": [
    {
     "name": "stdout",
     "output_type": "stream",
     "text": [
      "WARNING:tensorflow:From G:\\Anaconda\\envs\\tensorflow_cpu\\lib\\site-packages\\tensorflow\\python\\framework\\op_def_library.py:263: colocate_with (from tensorflow.python.framework.ops) is deprecated and will be removed in a future version.\n",
      "Instructions for updating:\n",
      "Colocations handled automatically by placer.\n",
      "WARNING:tensorflow:From G:\\Anaconda\\envs\\tensorflow_cpu\\lib\\site-packages\\tensorflow\\python\\ops\\math_ops.py:3066: to_int32 (from tensorflow.python.ops.math_ops) is deprecated and will be removed in a future version.\n",
      "Instructions for updating:\n",
      "Use tf.cast instead.\n"
     ]
    }
   ],
   "source": [
    "learning_rate = 0.001\n",
    "training_epochs = 1000\n",
    "\n",
    "X = tf.placeholder(\"float\")\n",
    "Y = tf.placeholder(\"float\")\n",
    "w = tf.Variable([0.,0.],name=\"parameter\",dtype=tf.float32)\n",
    "\n",
    "def model(X, w):\n",
    "    return tf.add(tf.multiply(w[1], tf.pow(X, 1)),\n",
    "                  tf.multiply(w[0], tf.pow(X, 0)))\n",
    "\n",
    "y_pred = model(X,w)\n",
    "cost = tf.reduce_sum(tf.square(Y-y_pred))\n",
    "\n",
    "trainer = tf.train.GradientDescentOptimizer(learning_rate).minimize(cost)\n",
    "correct_predictions = tf.equal(Y,tf.cast(tf.greater(y_pred,0.5),dtype=tf.float32))\n",
    "accuracy = tf.reduce_mean(tf.cast(correct_predictions,dtype=tf.float32))\n"
   ]
  },
  {
   "cell_type": "code",
   "execution_count": 5,
   "metadata": {},
   "outputs": [
    {
     "name": "stdout",
     "output_type": "stream",
     "text": [
      "0   9.234243\n",
      "100   3.5494967\n",
      "200   3.4078054\n",
      "300   3.404201\n",
      "400   3.4041095\n",
      "500   3.4041069\n",
      "600   3.404107\n",
      "700   3.4041066\n",
      "800   3.4041069\n",
      "900   3.4041069\n",
      "Learned parameter :  [ 0.8049095  -0.07042843]\n"
     ]
    }
   ],
   "source": [
    "with tf.Session() as sess:\n",
    "    sess.run(tf.global_variables_initializer())\n",
    "    #costs= []\n",
    "    for epoch in range(training_epochs):\n",
    "        sess.run(trainer, feed_dict={X:x,Y:labels})\n",
    "        curr_cost = sess.run(cost, feed_dict={X:x,Y:labels})\n",
    "        if epoch % 100 == 0:\n",
    "            print(epoch, \" \",curr_cost)\n",
    "    w_val = sess.run(w)\n",
    "    print('Learned parameter : ', w_val)\n",
    "    #print(\"Correct predictions : \",sess.run(correct_predictions,feed_dict={X:x,Y:labels}))\n",
    "    #print(\"Accuracy :\", sess.run(accuracy,feed_dict={X:x,Y:labels}))\n",
    "    #print(sess.run(tf.greater(y_pred,0.5),feed_dict={X:x,Y:labels}))\n",
    "    sess.close()\n",
    "        "
   ]
  },
  {
   "cell_type": "code",
   "execution_count": 6,
   "metadata": {},
   "outputs": [],
   "source": [
    "y_model=w_val[0]+w_val[1]*x"
   ]
  },
  {
   "cell_type": "code",
   "execution_count": 7,
   "metadata": {},
   "outputs": [
    {
     "data": {
      "image/png": "[encoded data removed]",
      "text/plain": [
       "<Figure size 432x288 with 1 Axes>"
      ]
     },
     "metadata": {
      "needs_background": "light"
     },
     "output_type": "display_data"
    }
   ],
   "source": [
    "plt.scatter(x,labels,label=\"training data\")\n",
    "plt.plot(x,y_model, label=\"model fit\")\n",
    "plt.legend()\n",
    "plt.show()"
   ]
  },
  {
   "cell_type": "markdown",
   "metadata": {},
   "source": [
    "## What if there are outliers?"
   ]
  },
  {
   "cell_type": "code",
   "execution_count": 8,
   "metadata": {},
   "outputs": [
    {
     "name": "stdout",
     "output_type": "stream",
     "text": [
      "0   9.1847105\n",
      "100   3.72186\n",
      "200   3.5858655\n",
      "300   3.5823915\n",
      "400   3.5823026\n",
      "500   3.5823007\n",
      "600   3.5823007\n",
      "700   3.5823004\n",
      "800   3.5823007\n",
      "900   3.5823007\n",
      "Learned parameter :  [ 0.7877257  -0.06605357]\n"
     ]
    }
   ],
   "source": [
    "x1 = np.append(np.random.normal(5, 1, 9), 20) #outlier added\n",
    "x2 = np.random.normal(2,1,10)\n",
    "x = np.append(x1,x2)\n",
    "labels = [0.]*len(x1) + [1.]*len(x2)\n",
    "\n",
    "with tf.Session() as sess:\n",
    "    sess.run(tf.global_variables_initializer())\n",
    "    for epoch in range(training_epochs):\n",
    "        sess.run(trainer, feed_dict={X:x,Y:labels})\n",
    "        curr_cost = sess.run(cost, feed_dict={X:x,Y:labels})\n",
    "        if epoch % 100 == 0:\n",
    "            print(epoch, \" \",curr_cost)\n",
    "    w_val = sess.run(w)\n",
    "    print('Learned parameter : ', w_val)\n",
    "    sess.close()"
   ]
  },
  {
   "cell_type": "code",
   "execution_count": 9,
   "metadata": {},
   "outputs": [
    {
     "data": {
      "image/png": "[encoded data removed]",
      "text/plain": [
       "<Figure size 432x288 with 1 Axes>"
      ]
     },
     "metadata": {
      "needs_background": "light"
     },
     "output_type": "display_data"
    }
   ],
   "source": [
    "y_model=w_val[0]+w_val[1]*x\n",
    "plt.scatter(x,labels,label=\"training data\")\n",
    "plt.plot(x,y_model, label=\"model fit\")\n",
    "plt.legend()\n",
    "plt.show()"
   ]
  },
  {
   "cell_type": "markdown",
   "metadata": {},
   "source": [
    "## Logistic Regression (Classification :P)"
   ]
  },
  {
   "cell_type": "code",
   "execution_count": 10,
   "metadata": {},
   "outputs": [
    {
     "data": {
      "image/png": "[encoded data removed]",
      "text/plain": [
       "<Figure size 432x288 with 1 Axes>"
      ]
     },
     "metadata": {
      "needs_background": "light"
     },
     "output_type": "display_data"
    }
   ],
   "source": [
    "# Gernerate fake 2D data \n",
    "x1_l1=np.random.normal(3,1.3,[1000,1])\n",
    "x1_l2=np.random.normal(7,1.2,[1000,1])\n",
    "x2_l1=np.random.normal(2,1.5,[1000,1])\n",
    "x2_l2=np.random.normal(6,1.1,[1000,1])\n",
    "x1=np.append(x1_l1,x1_l2,axis=0)\n",
    "x2=np.append(x2_l1,x2_l2,axis=0)\n",
    "x=np.append(x1,x2,axis=1)\n",
    "y=np.array([[0.]*len(x1_l1)+[1.]*len(x2_l2)]).T\n",
    "\n",
    "plt.scatter(x1_l1,x2_l1,label='class 0')\n",
    "plt.scatter(x1_l2,x2_l2,label='class 1')\n",
    "plt.legend()\n",
    "plt.xlabel('x1')\n",
    "plt.ylabel('x2')\n",
    "plt.show()"
   ]
  },
  {
   "cell_type": "code",
   "execution_count": 11,
   "metadata": {},
   "outputs": [],
   "source": [
    "learning_rate = 0.0001\n",
    "training_epochs = 3000\n",
    "\n",
    "def sigmoid(x):\n",
    "    return 1/(1+np.exp(-x))\n",
    "\n",
    "(m,n) = x.shape"
   ]
  },
  {
   "cell_type": "code",
   "execution_count": 12,
   "metadata": {},
   "outputs": [],
   "source": [
    "# define placeholders and variables\n",
    "X = tf.placeholder(tf.float32, [None, n])\n",
    "Y = tf.placeholder(tf.float32,[None,1])\n",
    "b = tf.Variable(0.0, name='bias', dtype=tf.float32,trainable=True)\n",
    "w = tf.Variable(np.zeros([n,1]), name='weights', dtype=tf.float32, trainable=True)"
   ]
  },
  {
   "cell_type": "code",
   "execution_count": 13,
   "metadata": {},
   "outputs": [],
   "source": [
    "# model\n",
    "y_model = tf.sigmoid(tf.matmul(X,w)+b)\n",
    "#y_model = tf.sigmoid(X@w+b)\n",
    "#y_model = tf.sigmoid(X[:,0]*w[0,0]+X[:,1]*w[1,0]+b)"
   ]
  },
  {
   "cell_type": "code",
   "execution_count": 14,
   "metadata": {},
   "outputs": [],
   "source": [
    "# cost\n",
    "cost = -tf.reduce_sum(Y*tf.log(y_model)+(1-Y)*tf.log(1-y_model))"
   ]
  },
  {
   "cell_type": "code",
   "execution_count": 15,
   "metadata": {},
   "outputs": [],
   "source": [
    "# trainer\n",
    "trainer = tf.train.GradientDescentOptimizer(learning_rate).minimize(cost)\n",
    "correct_predictions = tf.equal(Y,tf.cast(tf.greater(y_model,0.5),dtype=tf.float32))\n",
    "accuracy = tf.reduce_mean(tf.cast(correct_predictions,dtype=tf.float32))"
   ]
  },
  {
   "cell_type": "code",
   "execution_count": 16,
   "metadata": {},
   "outputs": [
    {
     "name": "stdout",
     "output_type": "stream",
     "text": [
      "0   1386.2919\n",
      "100   566.0613\n",
      "200   390.2388\n",
      "300   309.73285\n",
      "400   263.19724\n",
      "500   232.5965\n",
      "600   210.7829\n",
      "700   194.35336\n",
      "800   181.47661\n",
      "900   171.07596\n",
      "1000   162.47516\n",
      "1100   155.2272\n",
      "1200   149.0239\n",
      "1300   143.64568\n",
      "1400   138.93135\n",
      "1500   134.76013\n",
      "1600   131.0393\n",
      "1700   127.69653\n",
      "1800   124.67436\n",
      "1900   121.9268\n",
      "2000   119.41652\n",
      "2100   117.11255\n",
      "2200   114.98944\n",
      "2300   113.02578\n",
      "2400   111.20345\n",
      "2500   109.507\n",
      "2600   107.92328\n",
      "2700   106.44091\n",
      "2800   105.05011\n",
      "2900   103.74222\n",
      "Learned weights :  [[1.2141911]\n",
      " [1.1793247]]\n",
      "Learned bias :  -10.941987\n",
      "Correct predictions :  [[ True]\n",
      " [ True]\n",
      " [ True]\n",
      " ...\n",
      " [ True]\n",
      " [ True]\n",
      " [ True]]\n",
      "Accuracy : 0.987\n",
      "[[False]\n",
      " [False]\n",
      " [False]\n",
      " ...\n",
      " [ True]\n",
      " [ True]\n",
      " [ True]]\n"
     ]
    }
   ],
   "source": [
    "with tf.Session() as sess:\n",
    "    sess.run(tf.global_variables_initializer())\n",
    "    prev_cost = 0\n",
    "    for epoch in range(training_epochs):\n",
    "        curr_cost,_ = sess.run([cost,trainer], feed_dict={X:x,Y:y})\n",
    "        if epoch % 100 == 0:\n",
    "            print(epoch, \" \",curr_cost)\n",
    "        if abs(prev_cost-curr_cost)<0.001:\n",
    "            break\n",
    "        prev_cost = curr_cost\n",
    "    w_val = sess.run(w)\n",
    "    b_val = sess.run(b)\n",
    "    print('Learned weights : ', w_val)\n",
    "    print('Learned bias : ', b_val)\n",
    "    print(\"Correct predictions : \",sess.run(correct_predictions,feed_dict={X:x,Y:y}))\n",
    "    print(\"Accuracy :\", sess.run(accuracy,feed_dict={X:x,Y:y}))\n",
    "    print(sess.run(tf.greater(y_model,0.5),feed_dict={X:x,Y:y}))\n",
    "    sess.close()"
   ]
  },
  {
   "cell_type": "code",
   "execution_count": 17,
   "metadata": {},
   "outputs": [
    {
     "data": {
      "image/png": "[encoded data removed]",
      "text/plain": [
       "<Figure size 432x288 with 1 Axes>"
      ]
     },
     "metadata": {
      "needs_background": "light"
     },
     "output_type": "display_data"
    }
   ],
   "source": [
    "x1_boundary, x2_boundary = [], []\n",
    "for x1_test in np.linspace(0, 10, 100):\n",
    "    for x2_test in np.linspace(0, 10, 100):\n",
    "        z = sigmoid(-x2_test*w_val[1] - x1_test*w_val[0] - b_val)\n",
    "        if abs(z - 0.5) < 0.01:\n",
    "            x1_boundary.append(x1_test)\n",
    "            x2_boundary.append(x2_test)\n",
    "plt.scatter(x1_boundary, x2_boundary, c='b', marker='o', s=20, label = 'decision boundary')\n",
    "plt.scatter(x1_l1,x2_l1,label='class 0')\n",
    "plt.scatter(x1_l2,x2_l2,label='class 1')\n",
    "plt.legend()\n",
    "plt.xlabel('x1')\n",
    "plt.ylabel('x2')\n",
    "plt.show()"
   ]
  }
 ],
 "metadata": {
  "kernelspec": {
   "display_name": "Python 3",
   "language": "python",
   "name": "python3"
  },
  "language_info": {
   "codemirror_mode": {
    "name": "ipython",
    "version": 3
   },
   "file_extension": ".py",
   "mimetype": "text/x-python",
   "name": "python",
   "nbconvert_exporter": "python",
   "pygments_lexer": "ipython3",
   "version": "3.6.8"
  }
 },
 "nbformat": 4,
 "nbformat_minor": 2
}
