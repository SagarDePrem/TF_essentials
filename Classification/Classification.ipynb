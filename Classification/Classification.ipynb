{
 "cells": [
  {
   "cell_type": "markdown",
   "metadata": {},
   "source": [
    "# Classification"
   ]
  },
  {
   "cell_type": "markdown",
   "metadata": {},
   "source": [
    "## Classification using Linear Regression\n"
   ]
  },
  {
   "cell_type": "code",
   "execution_count": 1,
   "metadata": {},
   "outputs": [],
   "source": [
    "import tensorflow as tf\n",
    "import numpy as np\n",
    "import matplotlib.pyplot as plt"
   ]
  },
  {
   "cell_type": "code",
   "execution_count": 2,
   "metadata": {},
   "outputs": [],
   "source": [
    "x1 = np.random.normal(5,1,10)\n",
    "x1 = np.append(np.random.normal(5, 1, 9), 20) #\n",
    "x2 = np.random.normal(2,1,10)\n",
    "x = np.append(x1,x2)\n",
    "labels = [0.]*len(x1) + [1.]*len(x2)"
   ]
  },
  {
   "cell_type": "code",
   "execution_count": 3,
   "metadata": {},
   "outputs": [
    {
     "data": {
      "text/plain": [
       "<matplotlib.collections.PathCollection at 0x2a4dd383e48>"
      ]
     },
     "execution_count": 3,
     "metadata": {},
     "output_type": "execute_result"
    },
    {
     "data": {
      "image/png": "[encoded data removed]",
      "text/plain": [
       "<Figure size 432x288 with 1 Axes>"
      ]
     },
     "metadata": {
      "needs_background": "light"
     },
     "output_type": "display_data"
    }
   ],
   "source": [
    "plt.scatter(x,labels)"
   ]
  },
  {
   "cell_type": "code",
   "execution_count": 4,
   "metadata": {},
   "outputs": [
    {
     "name": "stdout",
     "output_type": "stream",
     "text": [
      "WARNING:tensorflow:From G:\\Anaconda\\envs\\tensorflow_cpu\\lib\\site-packages\\tensorflow\\python\\framework\\op_def_library.py:263: colocate_with (from tensorflow.python.framework.ops) is deprecated and will be removed in a future version.\n",
      "Instructions for updating:\n",
      "Colocations handled automatically by placer.\n",
      "WARNING:tensorflow:From G:\\Anaconda\\envs\\tensorflow_cpu\\lib\\site-packages\\tensorflow\\python\\ops\\math_ops.py:3066: to_int32 (from tensorflow.python.ops.math_ops) is deprecated and will be removed in a future version.\n",
      "Instructions for updating:\n",
      "Use tf.cast instead.\n"
     ]
    }
   ],
   "source": [
    "learning_rate = 0.001\n",
    "training_epochs = 1000\n",
    "\n",
    "X = tf.placeholder(\"float\")\n",
    "Y = tf.placeholder(\"float\")\n",
    "w = tf.Variable([0.,0.],name=\"parameter\",dtype=tf.float32)\n",
    "\n",
    "def model(X, w):\n",
    "    return tf.add(tf.multiply(w[1], tf.pow(X, 1)),\n",
    "                  tf.multiply(w[0], tf.pow(X, 0)))\n",
    "\n",
    "y_pred = model(X,w)\n",
    "cost = tf.reduce_sum(tf.square(Y-y_pred))\n",
    "\n",
    "trainer = tf.train.GradientDescentOptimizer(learning_rate).minimize(cost)\n",
    "correct_predictions = tf.equal(Y,tf.cast(tf.greater(y_pred,0.5),dtype=tf.float32))\n",
    "accuracy = tf.reduce_mean(tf.cast(correct_predictions,dtype=tf.float32))\n"
   ]
  },
  {
   "cell_type": "code",
   "execution_count": 5,
   "metadata": {},
   "outputs": [
    {
     "name": "stdout",
     "output_type": "stream",
     "text": [
      "0   8.778688\n",
      "100   2.599059\n",
      "200   1.4481404\n",
      "300   1.2259932\n",
      "400   1.1831151\n",
      "500   1.1748389\n",
      "600   1.1732414\n",
      "700   1.1729329\n",
      "800   1.1728733\n",
      "900   1.1728619\n",
      "Learned parameter :  [ 1.3321502  -0.25076604]\n"
     ]
    }
   ],
   "source": [
    "with tf.Session() as sess:\n",
    "    sess.run(tf.global_variables_initializer())\n",
    "    #costs= []\n",
    "    for epoch in range(training_epochs):\n",
    "        sess.run(trainer, feed_dict={X:x,Y:labels})\n",
    "        curr_cost = sess.run(cost, feed_dict={X:x,Y:labels})\n",
    "        if epoch % 100 == 0:\n",
    "            print(epoch, \" \",curr_cost)\n",
    "    w_val = sess.run(w)\n",
    "    print('Learned parameter : ', w_val)\n",
    "    #print(\"Correct predictions : \",sess.run(correct_predictions,feed_dict={X:x,Y:labels}))\n",
    "    #print(\"Accuracy :\", sess.run(accuracy,feed_dict={X:x,Y:labels}))\n",
    "    #print(sess.run(tf.greater(y_pred,0.5),feed_dict={X:x,Y:labels}))\n",
    "    sess.close()\n",
    "        "
   ]
  },
  {
   "cell_type": "code",
   "execution_count": 6,
   "metadata": {},
   "outputs": [],
   "source": [
    "y_model=w_val[0]+w_val[1]*x"
   ]
  },
  {
   "cell_type": "code",
   "execution_count": 7,
   "metadata": {},
   "outputs": [
    {
     "data": {
      "image/png": "[encoded data removed]",
      "text/plain": [
       "<Figure size 432x288 with 1 Axes>"
      ]
     },
     "metadata": {
      "needs_background": "light"
     },
     "output_type": "display_data"
    }
   ],
   "source": [
    "plt.scatter(x,labels,label=\"training data\")\n",
    "plt.plot(x,y_model, label=\"model fit\")\n",
    "plt.legend()\n",
    "plt.show()"
   ]
  },
  {
   "cell_type": "markdown",
   "metadata": {},
   "source": [
    "## What if there are outliers?"
   ]
  },
  {
   "cell_type": "code",
   "execution_count": 8,
   "metadata": {},
   "outputs": [
    {
     "name": "stdout",
     "output_type": "stream",
     "text": [
      "0   9.093418\n",
      "100   3.8888495\n",
      "200   3.7717733\n",
      "300   3.7690945\n",
      "400   3.7690337\n",
      "500   3.769032\n",
      "600   3.769032\n",
      "700   3.7690322\n",
      "800   3.7690322\n",
      "900   3.7690322\n",
      "Learned parameter :  [ 0.76063544 -0.06284973]\n"
     ]
    }
   ],
   "source": [
    "x1 = np.append(np.random.normal(5, 1, 9), 20) #outlier added\n",
    "x2 = np.random.normal(2,1,10)\n",
    "x = np.append(x1,x2)\n",
    "labels = [0.]*len(x1) + [1.]*len(x2)\n",
    "\n",
    "with tf.Session() as sess:\n",
    "    sess.run(tf.global_variables_initializer())\n",
    "    for epoch in range(training_epochs):\n",
    "        sess.run(trainer, feed_dict={X:x,Y:labels})\n",
    "        curr_cost = sess.run(cost, feed_dict={X:x,Y:labels})\n",
    "        if epoch % 100 == 0:\n",
    "            print(epoch, \" \",curr_cost)\n",
    "    w_val = sess.run(w)\n",
    "    print('Learned parameter : ', w_val)\n",
    "    sess.close()"
   ]
  },
  {
   "cell_type": "code",
   "execution_count": 9,
   "metadata": {},
   "outputs": [
    {
     "data": {
      "image/png": "[encoded data removed]",
      "text/plain": [
       "<Figure size 432x288 with 1 Axes>"
      ]
     },
     "metadata": {
      "needs_background": "light"
     },
     "output_type": "display_data"
    }
   ],
   "source": [
    "y_model=w_val[0]+w_val[1]*x\n",
    "plt.scatter(x,labels,label=\"training data\")\n",
    "plt.plot(x,y_model, label=\"model fit\")\n",
    "plt.legend()\n",
    "plt.show()"
   ]
  },
  {
   "cell_type": "code",
   "execution_count": null,
   "metadata": {},
   "outputs": [],
   "source": []
  }
 ],
 "metadata": {
  "kernelspec": {
   "display_name": "Python 3",
   "language": "python",
   "name": "python3"
  },
  "language_info": {
   "codemirror_mode": {
    "name": "ipython",
    "version": 3
   },
   "file_extension": ".py",
   "mimetype": "text/x-python",
   "name": "python",
   "nbconvert_exporter": "python",
   "pygments_lexer": "ipython3",
   "version": "3.6.8"
  }
 },
 "nbformat": 4,
 "nbformat_minor": 2
}
