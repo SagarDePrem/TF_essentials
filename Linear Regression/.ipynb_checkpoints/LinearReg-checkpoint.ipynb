{
 "cells": [
  {
   "cell_type": "markdown",
   "metadata": {},
   "source": [
    "## Linear regression"
   ]
  },
  {
   "cell_type": "code",
   "execution_count": null,
   "metadata": {},
   "outputs": [],
   "source": [
    "import tensorflow as tf\n",
    "import numpy as np \n",
    "%matplotlib inline\n",
    "import matplotlib.pyplot as plt\n",
    "\n",
    "# generate some training data\n",
    "x_train=np.linspace(-1,1,101)\n",
    "y_train=2.3*x_train+np.random.randn(*x_train.shape)*0.3 # * is for unpacking\n",
    "\n",
    "# plot training data\n",
    "plt.scatter(x_train,y_train)\n",
    "plt.show()"
   ]
  },
  {
   "cell_type": "code",
   "execution_count": null,
   "metadata": {},
   "outputs": [],
   "source": [
    "def linearReg(X,w):\n",
    "    return tf.multiply(X,w)\n",
    "training_epochs = 200\n",
    "X = tf.placeholder(\"float\")\n",
    "Y = tf.placeholder(\"float\")\n",
    "w = tf.Variable(1.0, name=\"weight\")\n",
    "weight_summary = tf.summary.scalar(\"weight summary\", w)\n",
    "writer = tf.summary.FileWriter(\"./logs\")\n",
    "\n",
    "y_pred=linearReg(X,w)\n",
    "cost=tf.reduce_mean(tf.pow(Y-y_pred,2))\n",
    "\n",
    "trainer = tf.train.GradientDescentOptimizer(learning_rate).minimize(cost)\n",
    "\n",
    "with tf.Session() as sess:\n",
    "    sess.run(tf.global_variables_initializer())\n",
    "    \n",
    "    for _ in range(training_epochs):\n",
    "        for x,y in zip(x_train, y_train):\n",
    "            summary_str, meh = sess.run([weight_summary, trainer],feed_dict={X:x,Y:y})\n",
    "            sess.run(w)\n",
    "            writer.add_summary(summary_str, _)\n",
    "    w_val=sess.run(w)\n",
    "    y_model=sess.run(linearReg(x_train,sess.run(w)))\n",
    "    #writer.add_graph(sess.graph)\n",
    "    writer.close()\n",
    "    sess.close()"
   ]
  },
  {
   "cell_type": "code",
   "execution_count": null,
   "metadata": {},
   "outputs": [],
   "source": [
    "plt.scatter(x_train, y_train)\n",
    "#y_model = linearReg(x_train,w_val)\n",
    "plt.plot(x_train,y_model,'r')\n",
    "plt.show()"
   ]
  }
 ],
 "metadata": {
  "kernelspec": {
   "display_name": "Python 3",
   "language": "python",
   "name": "python3"
  },
  "language_info": {
   "codemirror_mode": {
    "name": "ipython",
    "version": 3
   },
   "file_extension": ".py",
   "mimetype": "text/x-python",
   "name": "python",
   "nbconvert_exporter": "python",
   "pygments_lexer": "ipython3",
   "version": "3.6.8"
  }
 },
 "nbformat": 4,
 "nbformat_minor": 2
}
