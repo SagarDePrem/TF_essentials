{
 "cells": [
  {
   "cell_type": "markdown",
   "metadata": {},
   "source": [
    "# HMM"
   ]
  },
  {
   "cell_type": "code",
   "execution_count": null,
   "metadata": {},
   "outputs": [],
   "source": [
    "import numpy as np\n",
    "import tensorflow as tf\n",
    "#import tensorflow_probability as tfp"
   ]
  },
  {
   "cell_type": "code",
   "execution_count": null,
   "metadata": {},
   "outputs": [],
   "source": [
    "# initial parameters can be learned on training data\n",
    "# theory reference https://web.stanford.edu/~jurafsky/slp3/8.pdf\n",
    "# code reference https://phvu.net/2013/12/06/sweet-implementation-of-viterbi-in-python/\n",
    "class HMM(object):\n",
    "    def __init__(self, initial_prob, trans_prob, obs_prob):\n",
    "        self.N = np.size(initial_prob)\n",
    "        self.initial_prob = initial_prob   # N_features x 1\n",
    "        self.trans_prob = trans_prob       # N_features x N_features\n",
    "        self.obs_prob = obs_prob           # N_features x N_states\n",
    "        self.emission = tf.constant(obs_prob)    # N_features x N_states\n",
    "        assert self.initial_prob.shape == (self.N, 1)   # N_features x 1\n",
    "        assert self.trans_prob.shape == (self.N, self.N) # N_features x N_features\n",
    "        assert self.obs_prob.shape[0] == self.N    # N_features\n",
    "        self.obs = tf.placeholder(tf.int32)\n",
    "        self.fwd = tf.placeholder(tf.float64)\n",
    "        self.viterbi = tf.placeholder(tf.float64)\n",
    "\n",
    "    def get_emission(self, obs_idx):\n",
    "        slice_location = [0, obs_idx]  # start location for particular state\n",
    "        num_rows = tf.shape(self.emission)[0] # N_features\n",
    "        slice_shape = [num_rows, 1]  # N_features x 1\n",
    "        return tf.slice(self.emission, slice_location, slice_shape)   # returns all features of a particular state N_featuresx1\n",
    "\n",
    "    def forward_init_op(self):\n",
    "        obs_prob = self.get_emission(self.obs)\n",
    "        fwd = tf.multiply(self.initial_prob, obs_prob) # (N_features x 1) x (N_features x 1)\n",
    "        return fwd  # (N_features x 1)\n",
    "\n",
    "    def forward_op(self):\n",
    "        transitions = tf.matmul(self.fwd, tf.transpose(self.get_emission(self.obs))) # (N_features x 1)*(1xN_features)\n",
    "        weighted_transitions = transitions * self.trans_prob # (N_features x N_features)\n",
    "        fwd = tf.reduce_sum(weighted_transitions, 0) # (1 x N_features)\n",
    "        return tf.reshape(fwd, tf.shape(self.fwd)) # (N_features x 1)\n",
    "\n",
    "    def decode_op(self):\n",
    "        transitions = tf.matmul(self.viterbi, tf.transpose(self.get_emission(self.obs)))\n",
    "        weighted_transitions = transitions * self.trans_prob\n",
    "        viterbi = tf.reduce_max(weighted_transitions, 0)\n",
    "        return tf.reshape(viterbi, tf.shape(self.viterbi))\n",
    "\n",
    "    def backpt_op(self):\n",
    "        back_transitions = tf.matmul(self.viterbi, np.ones((1, self.N)))\n",
    "        weighted_back_transitions = back_transitions * self.trans_prob\n",
    "        return tf.argmax(weighted_back_transitions, 0)"
   ]
  },
  {
   "cell_type": "code",
   "execution_count": null,
   "metadata": {},
   "outputs": [],
   "source": [
    "def forward_algorithm(sess, hmm, observations):\n",
    "    fwd = sess.run(hmm.forward_init_op(), feed_dict={hmm.obs: observations[0]})\n",
    "    for t in range(1, len(observations)):\n",
    "        fwd = sess.run(hmm.forward_op(), feed_dict={hmm.obs: observations[t], hmm.fwd: fwd})\n",
    "    prob = sess.run(tf.reduce_sum(fwd))\n",
    "    return prob"
   ]
  },
  {
   "cell_type": "code",
   "execution_count": null,
   "metadata": {},
   "outputs": [],
   "source": [
    "def viterbi_decode(sess, hmm, observations):\n",
    "    viterbi = sess.run(hmm.forward_init_op(), feed_dict={hmm.obs: observations[0]})\n",
    "    backpts = np.ones((hmm.N, len(observations)), 'int32') * -1\n",
    "    for t in range(1, len(observations)):\n",
    "        viterbi, backpt = sess.run([hmm.decode_op(), hmm.backpt_op()],\n",
    "                                    feed_dict={hmm.obs: observations[t],\n",
    "                                               hmm.viterbi: viterbi})\n",
    "        backpts[:, t] = backpt\n",
    "    tokens = [viterbi[:, -1].argmax()]\n",
    "    for i in range(len(observations) - 1, 0, -1):\n",
    "        tokens.append(backpts[tokens[-1], i])\n",
    "    return tokens[::-1]"
   ]
  },
  {
   "cell_type": "code",
   "execution_count": null,
   "metadata": {},
   "outputs": [],
   "source": [
    "if __name__ == '__main__':\n",
    "    states = ('Healthy', 'Fever')\n",
    "#     observations = ('normal', 'cold', 'dizzy')\n",
    "#     start_probability = {'Healthy': 0.6, 'Fever': 0.4}\n",
    "#     transition_probability = {\n",
    "#         'Healthy': {'Healthy': 0.7, 'Fever': 0.3},\n",
    "#         'Fever': {'Healthy': 0.4, 'Fever': 0.6}\n",
    "#     }\n",
    "#     emission_probability = {\n",
    "#         'Healthy': {'normal': 0.5, 'cold': 0.4, 'dizzy': 0.1},\n",
    "#         'Fever': {'normal': 0.1, 'cold': 0.3, 'dizzy': 0.6}\n",
    "#     }\n",
    "    initial_prob = np.array([[0.6], [0.4]])  # N_features x 1\n",
    "    trans_prob = np.array([[0.7, 0.3], [0.4, 0.6]])  # N_features x N_features\n",
    "    obs_prob = np.array([[0.5, 0.4, 0.1], [0.1, 0.3, 0.6]]) # N_features x N_states\n",
    "    hmm = HMM(initial_prob=initial_prob, trans_prob=trans_prob, obs_prob=obs_prob)\n",
    "\n",
    "    #observations = [0, 1, 1, 2, 1]\n",
    "    observations = [0, 0, 0, 1, 1]\n",
    "    with tf.Session() as sess:\n",
    "        prob = forward_algorithm(sess, hmm, observations)\n",
    "        print('Probability of observing {} is {}'.format(observations, prob))\n",
    "\n",
    "        seq = viterbi_decode(sess, hmm, observations)\n",
    "        print('Most likely hidden states are {}'.format(seq))"
   ]
  },
  {
   "cell_type": "markdown",
   "metadata": {},
   "source": [
    "##  Native TF implementation"
   ]
  },
  {
   "cell_type": "code",
   "execution_count": null,
   "metadata": {},
   "outputs": [],
   "source": [
    "tfd = tfp.distributions\n",
    "\n",
    "# A simple weather model.\n",
    "\n",
    "# Represent a cold day with 0 and a hot day with 1.\n",
    "# Suppose the first day of a sequence has a 0.8 chance of being cold.\n",
    "# We can model this using the categorical distribution:\n",
    "\n",
    "initial_distribution = tfd.Categorical(probs=[0.8, 0.2])\n",
    "\n",
    "# Suppose a cold day has a 30% chance of being followed by a hot day\n",
    "# and a hot day has a 20% chance of being followed by a cold day.\n",
    "# We can model this as:\n",
    "\n",
    "transition_distribution = tfd.Categorical(probs=[[0.7, 0.3],\n",
    "                                                 [0.2, 0.8]])\n",
    "\n",
    "# Suppose additionally that on each day the temperature is\n",
    "# normally distributed with mean and standard deviation 0 and 5 on\n",
    "# a cold day and mean and standard deviation 15 and 10 on a hot day.\n",
    "# We can model this with:\n",
    "\n",
    "observation_distribution = tfd.Normal(loc=[0., 15.], scale=[5., 10.])\n",
    "\n",
    "# We can combine these distributions into a single week long\n",
    "# hidden Markov model with:\n",
    "\n",
    "model = tfd.HiddenMarkovModel(\n",
    "    initial_distribution=initial_distribution,\n",
    "    transition_distribution=transition_distribution,\n",
    "    observation_distribution=observation_distribution,\n",
    "    num_steps=7)\n",
    "\n",
    "# The expected temperatures for each day are given by:\n",
    "\n",
    "model.mean()  # shape [7], elements approach 9.0\n",
    "\n",
    "# The log pdf of a week of temperature 0 is:\n",
    "\n",
    "model.log_prob(tf.zeros(shape=[7]))"
   ]
  },
  {
   "cell_type": "code",
   "execution_count": null,
   "metadata": {},
   "outputs": [],
   "source": [
    "# Build a graph\n",
    "graph = tf.Graph()\n",
    "with graph.as_default():\n",
    "    # A 2x3 matrix\n",
    "    a = tf.constant(np.array([[ 1],\n",
    "                              [10]]),\n",
    "                    dtype=tf.float32)\n",
    "    # Another 2x3 matrix\n",
    "    b = tf.constant(np.array([[2],\n",
    "                              [3],[5]]),\n",
    "                    dtype=tf.float32)\n",
    "\n",
    "    # Elementwise multiplication\n",
    "    c =  a * b\n",
    "    d = tf.multiply(a, b)\n",
    "\n",
    "# Run a Session\n",
    "with tf.Session(graph=graph) as session:\n",
    "    (output_c, output_d) = session.run([c, d])\n",
    "    print(\"output_c\")\n",
    "    print(output_c)\n",
    "    print(\"\\noutput_d\")\n",
    "    print(output_d)"
   ]
  }
 ],
 "metadata": {
  "kernelspec": {
   "display_name": "Python 3",
   "language": "python",
   "name": "python3"
  },
  "language_info": {
   "codemirror_mode": {
    "name": "ipython",
    "version": 3
   },
   "file_extension": ".py",
   "mimetype": "text/x-python",
   "name": "python",
   "nbconvert_exporter": "python",
   "pygments_lexer": "ipython3",
   "version": "3.6.8"
  }
 },
 "nbformat": 4,
 "nbformat_minor": 2
}
